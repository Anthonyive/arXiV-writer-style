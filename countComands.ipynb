{
 "cells": [
  {
   "cell_type": "code",
   "execution_count": 76,
   "metadata": {},
   "outputs": [],
   "source": [
    "import re\n",
    "import os\n",
    "import pandas as pd\n",
    "\n",
    "\n",
    "greeks_list = [\"\\alpha\",\"\\beta\",\"\\gamma\",\"\\Gamma\",\"\\delta\",\"\\Delta\",\"\\epsilon\",\"\\varepsilon\",\n",
    "             \"\\zeta\",\"\\eta\",\"\\theta\",\"\\vartheta\",\"\\Theta\",\"\\iota\",\"\\kappa\",\"\\lambda\",\"\\Lambda\",\n",
    "             \"\\mu\",\"\\nu\",\"\\pi\",\"\\Pi\",\"\\rho\",\"\\varrho\",\"\\sigma\",\"\\Sigma\",\"\\tau\",\"\\phi\",\"\\varphi\",\"\\Phi\",\n",
    "             \"\\chi\",\"\\psi\",\"\\Psi\",\"\\omega\",\"\\Omega\"]\n",
    "\n",
    "# input a sample  tex\n",
    "def generateDF(file, cat = \"Unknown\", name = None):\n",
    "    with open(file, 'r') as myfile:\n",
    "        i = 0\n",
    "        matches = pd.DataFrame(columns = ['line num','Command'])\n",
    "\n",
    "        for line in myfile:\n",
    "            i += 1\n",
    "            match = re.findall(r'\\\\\\w+', line)\n",
    "\n",
    "            if '\\\\end' in match:\n",
    "                match = []\n",
    "\n",
    "            if '\\\\begin' in match:\n",
    "                match = [re.findall('(?!\\\\begin{)\\w+', line)[1]]\n",
    "                \n",
    "            for g in greeks_list:\n",
    "                match[:] = [x for x in match if x != g]\n",
    "\n",
    "            for j in match:\n",
    "                new_row = pd.DataFrame({'line num': i, 'Command': [j]})\n",
    "                matches = matches.append(new_row, ignore_index=True)\n",
    "    matches.to_csv('./CSVs/' + cat + '-' + name + '.csv')"
   ]
  },
  {
   "cell_type": "code",
   "execution_count": 78,
   "metadata": {},
   "outputs": [],
   "source": [
    "unzipped_path = './Download/unzipped/'\n",
    "\n",
    "categories = [\"math.AC-CommutativeAlgebra\", \"math.AG-AlgebraicGeometry\", \"math.AP-AnalysisofPDEs\", \n",
    "    \"math.AT-AlgebraicTopology\", \"math.CA-ClassicalAnalysisandODEs\", \"math.CO-Combinatorics\", \"math.CT-CategoryTheory\", \n",
    "    \"math.CV-ComplexVariables\", \"math.DG-DifferentialGeometry\", \"math.DS-DynamicalSystems\", \"math.FA-FunctionalAnalysis\", \n",
    "    \"math.GM-GeneralMathematics\", \"math.GN-GeneralTopology\", \"math.GR-GroupTheory\", \"math.GT-GeometricTopology\", \n",
    "    \"math.HO-HistoryandOverview\", \"math.IT-InformationTheory\", \"math.KT-K-TheoryandHomology\", \"math.LO-Logic\", \n",
    "    \"math.MG-MetricGeometry\", \"math.MP-MathematicalPhysics\", \"math.NA-NumericalAnalysis\", \"math.NT-NumberTheory\", \n",
    "    \"math.OA-OperatorAlgebras\", \"math.OC-OptimizationandControl\", \"math.PR-Probability\", \"math.QA-QuantumAlgebra\", \n",
    "    \"math.RA-RingsandAlgebras\", \"math.RT-RepresentationTheory\", \"math.SG-SymplecticGeometry\", \"math.SP-SpectralTheory\", \"math.ST-StatisticsTheory\"]\n",
    "\n",
    "for cat in categories:\n",
    "    cat_path = unzipped_path + cat\n",
    "    file_paths = [x[0] for x in os.walk(cat_path)][1:]\n",
    "\n",
    "    for file_path in file_paths:\n",
    "        for file in os.listdir(file_path):\n",
    "            if file.endswith(\".tex\"):\n",
    "                try:\n",
    "                    generateDF(file_path + '/' + file, cat[5:7], file[:-4])\n",
    "                except:\n",
    "                    pass"
   ]
  },
  {
   "cell_type": "code",
   "execution_count": 71,
   "metadata": {},
   "outputs": [
    {
     "data": {
      "text/plain": [
       "'2007.10073.tex'"
      ]
     },
     "execution_count": 71,
     "metadata": {},
     "output_type": "execute_result"
    }
   ],
   "source": [
    "file"
   ]
  },
  {
   "cell_type": "code",
   "execution_count": 72,
   "metadata": {},
   "outputs": [
    {
     "data": {
      "text/plain": [
       "'./Download/unzipped/math.CA-ClassicalAnalysisandODEs/2007.100732007.10073.tex'"
      ]
     },
     "execution_count": 72,
     "metadata": {},
     "output_type": "execute_result"
    }
   ],
   "source": [
    "file_path + file"
   ]
  },
  {
   "cell_type": "code",
   "execution_count": 64,
   "metadata": {},
   "outputs": [],
   "source": [
    "file = 'sample.tex'\n",
    "generateDF('sample.tex', \"Unknown\", \"hello\")"
   ]
  },
  {
   "cell_type": "code",
   "execution_count": 32,
   "metadata": {},
   "outputs": [],
   "source": [
    "matches.to_csv('sample.csv')"
   ]
  },
  {
   "cell_type": "code",
   "execution_count": 43,
   "metadata": {},
   "outputs": [
    {
     "data": {
      "text/plain": [
       "<generator object walk at 0x7fc15bb86f50>"
      ]
     },
     "execution_count": 43,
     "metadata": {},
     "output_type": "execute_result"
    }
   ],
   "source": [
    "os.walk(path)"
   ]
  },
  {
   "cell_type": "code",
   "execution_count": 44,
   "metadata": {},
   "outputs": [
    {
     "data": {
      "text/plain": [
       "['Testing Area',\n",
       " 'miscellaneous',\n",
       " 'Download',\n",
       " '.ipynb_checkpoints',\n",
       " '.git',\n",
       " 'matchCommands']"
      ]
     },
     "execution_count": 44,
     "metadata": {},
     "output_type": "execute_result"
    }
   ],
   "source": [
    "next(os.walk('.'))[1]"
   ]
  },
  {
   "cell_type": "code",
   "execution_count": null,
   "metadata": {},
   "outputs": [],
   "source": []
  }
 ],
 "metadata": {
  "kernelspec": {
   "display_name": "Python 3",
   "language": "python",
   "name": "python3"
  },
  "language_info": {
   "codemirror_mode": {
    "name": "ipython",
    "version": 3
   },
   "file_extension": ".py",
   "mimetype": "text/x-python",
   "name": "python",
   "nbconvert_exporter": "python",
   "pygments_lexer": "ipython3",
   "version": "3.7.6"
  }
 },
 "nbformat": 4,
 "nbformat_minor": 4
}
