{
 "cells": [
  {
   "cell_type": "markdown",
   "metadata": {},
   "source": [
    "I am using package BeautifulSoup (`pip install bs4`)."
   ]
  },
  {
   "cell_type": "code",
   "execution_count": 47,
   "metadata": {},
   "outputs": [],
   "source": [
    "from urllib.request import urlopen as uReq\n",
    "from bs4 import BeautifulSoup as soup\n",
    "import re"
   ]
  },
  {
   "cell_type": "code",
   "execution_count": 48,
   "metadata": {},
   "outputs": [],
   "source": [
    "url = 'https://arxiv.org'\n",
    "\n",
    "# opening up connection, grabbing the page\n",
    "uClient = uReq(url)\n",
    "arXiv_html = uClient.read()\n",
    "uClient.close()\n",
    "\n",
    "# html parsing\n",
    "arXiv_soup = soup(arXiv_html, \"html.parser\")"
   ]
  },
  {
   "cell_type": "markdown",
   "metadata": {},
   "source": [
    "# Scrap the links of all main topics"
   ]
  },
  {
   "cell_type": "code",
   "execution_count": 57,
   "metadata": {},
   "outputs": [
    {
     "name": "stdout",
     "output_type": "stream",
     "text": [
      "/archive/astro-ph\n",
      "/archive/cond-mat\n",
      "/archive/gr-qc\n",
      "/archive/hep-ex\n",
      "/archive/hep-lat\n",
      "/archive/hep-ph\n",
      "/archive/hep-th\n",
      "/archive/math-ph\n",
      "/archive/nlin\n",
      "/archive/nucl-ex\n",
      "/archive/nucl-th\n",
      "/archive/physics\n",
      "/archive/quant-ph\n",
      "/archive/math\n",
      "https://arxiv.org/corr\n",
      "/archive/q-bio\n",
      "/archive/q-fin\n",
      "/archive/stat\n",
      "/archive/eess\n",
      "/archive/econ\n"
     ]
    }
   ],
   "source": [
    "for link in arXiv_soup.select(\"#main-hep-th , #main-hep-ph , #main-hep-ex , #main-hep-lat , #main-gr-qc , #main-cond-mat , #main-astro-ph , #main-math-ph , #main-nlin , #main-nucl-ex , #main-nucl-th , #main-physics , #main-quant-ph , #main-math , #main-cs , #main-q-fin , #main-eess , #main-econ , #main-q-bio , #main-stat\"):\n",
    "    print(link['href'])"
   ]
  },
  {
   "cell_type": "markdown",
   "metadata": {},
   "source": [
    "# Search function"
   ]
  },
  {
   "cell_type": "markdown",
   "metadata": {},
   "source": [
    "Make sure to have Chrome installed and webdriver corresponding to its version. The following code will automate the task of searching"
   ]
  },
  {
   "cell_type": "code",
   "execution_count": 68,
   "metadata": {},
   "outputs": [],
   "source": [
    "from selenium import webdriver\n",
    "from selenium.webdriver.common.keys import Keys\n",
    "\n",
    "browser = webdriver.Chrome()\n",
    "\n",
    "browser.get('http://www.arXiv.com')\n",
    "assert 'arXiv.org e-Print archive' in browser.title\n",
    "\n",
    "elem = browser.find_element_by_name('query')  # Find the search box\n",
    "elem.send_keys('input here!' + Keys.RETURN)\n",
    "\n",
    "browser.quit()"
   ]
  },
  {
   "cell_type": "code",
   "execution_count": null,
   "metadata": {},
   "outputs": [],
   "source": []
  },
  {
   "cell_type": "code",
   "execution_count": null,
   "metadata": {},
   "outputs": [],
   "source": []
  },
  {
   "cell_type": "code",
   "execution_count": null,
   "metadata": {},
   "outputs": [],
   "source": []
  }
 ],
 "metadata": {
  "kernelspec": {
   "display_name": "Python 3",
   "language": "python",
   "name": "python3"
  },
  "language_info": {
   "codemirror_mode": {
    "name": "ipython",
    "version": 3
   },
   "file_extension": ".py",
   "mimetype": "text/x-python",
   "name": "python",
   "nbconvert_exporter": "python",
   "pygments_lexer": "ipython3",
   "version": "3.7.7"
  }
 },
 "nbformat": 4,
 "nbformat_minor": 4
}
