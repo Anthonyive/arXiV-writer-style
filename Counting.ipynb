{
 "cells": [
  {
   "cell_type": "code",
   "execution_count": 25,
   "metadata": {},
   "outputs": [
    {
     "name": "stdout",
     "output_type": "stream",
     "text": [
      "{'\\\\documentclass': 1, '\\\\usepackage': 17, '\\\\newcommand': 2, '\\\\DeclareMathOperator': 20, '\\\\Der': 1, '\\\\Ker': 4, '\\\\spann': 2, '\\\\dimm': 4, '\\\\Cl': 18, '\\\\divisor': 2, '\\\\WDiv': 3, '\\\\Spec': 3, '\\\\rlv': 1, '\\\\cov': 1, '\\\\env': 1, '\\\\id': 1, '\\\\Aut': 8, '\\\\Sing': 1, '\\\\Reg': 5, '\\\\Ann': 1, '\\\\NNA': 19, '\\\\NA': 19, '\\\\Stab': 1, '\\\\rank': 2, '\\\\def': 17, '\\\\R': 1, '\\\\mathbb': 19, '\\\\A': 4, '\\\\N': 2, '\\\\Z': 17, '\\\\C': 2, '\\\\G': 1, '\\\\Ga': 33, '\\\\Q': 13, '\\\\K': 21, '\\\\P': 11, '\\\\varepsilon': 1, '\\\\lN': 1, '\\\\mathcal': 38, '\\\\ra': 1, '\\\\rightarrow': 4, '\\\\RA': 1, '\\\\Rightarrow': 6, '\\\\LRA': 1, '\\\\Leftrightarrow': 3, '\\\\ddx': 1, '\\\\frac': 9, '\\\\partial': 35, '\\\\ddy': 1, '\\\\let': 3, '\\\\oldemptyset': 1, '\\\\emptyset': 3, '\\\\varnothing': 1, '\\\\setlength': 1, '\\\\columnseprule': 1, '\\\\newtheorem': 11, '\\\\oldexmp': 2, '\\\\example': 2, '\\\\renewcommand': 2, '\\\\normalfont': 1, '\\\\theoremstyle': 1, '\\\\sloppy': 1, '\\\\textwidth': 1, '\\\\oddsidemargin': 1, '\\\\topmargin': 1, '\\\\headheight': 1, '\\\\headsep': 1, '\\\\textheight': 1, '\\\\evensidemargin': 1, 'document': 1, '\\\\title': 1, '\\\\author': 1, '\\\\address': 2, '\\\\email': 1, '\\\\footnotesize': 1, '\\\\textsc': 1, '\\\\par': 1, '\\\\nopagebreak': 1, '\\\\textit': 1, '\\\\texttt': 1, '\\\\date': 1, '\\\\thanks': 1, 'abstract': 1, '\\\\times': 17, '\\\\to': 9, '\\\\subjclass': 1, '\\\\keywords': 1, '\\\\maketitle': 1, '\\\\section': 7, '\\\\ldots': 44, '\\\\cite': 36, '\\\\leq': 60, '\\\\ref': 33, '\\\\bigcup': 7, '\\\\limits_': 21, '\\\\mathfrak': 63, 'thm': 1, 'enumerate': 10, '\\\\item': 26, '\\\\rm': 1, '\\\\smallskip': 11, '\\\\label': 6, 'defn': 7, '\\\\emph': 24, '\\\\simeq': 3, '\\\\langle': 21, '\\\\cdot': 4, '\\\\rangle': 20, '\\\\rangle_': 1, '\\\\otimes_': 2, '\\\\in': 48, '\\\\sigma_1': 3, '\\\\sigma_2': 3, '\\\\cap': 3, '\\\\subseteq': 2, '\\\\overline': 11, '\\\\widehat': 12, '\\\\backslash': 3, '\\\\pi_X': 3, '\\\\colon': 2, '\\\\rho_i': 7, '\\\\deg': 15, '\\\\setminus': 3, '\\\\sum_': 8, '\\\\rho': 3, '\\\\longrightarrow': 1, '\\\\mapsto': 1, '\\\\rho_1': 13, '\\\\rho_m': 2, '\\\\geq': 15, '\\\\neq': 15, 'equation': 1, '\\\\quad': 1, '\\\\varphi_': 2, '\\\\exp': 1, '\\\\bigoplus': 1, '\\\\partial_e': 10, '\\\\prod_': 3, 'stm': 3, 'corollary': 6, '\\\\it': 1, '\\\\delta_': 1, '\\\\le': 2, 'theorem': 5, 'itemize': 1, '\\\\left': 2, '\\\\sum': 9, '\\\\lambda_i': 2, '\\\\mid': 1, '\\\\right': 2, '\\\\subset': 9, '\\\\alpha_': 23, 'proof': 13, 'array': 1, 'lmm': 9, '\\\\Z_': 1, '\\\\text': 2, '\\\\rho_n': 3, '\\\\cup': 1, '\\\\partial_': 28, '\\\\rho_': 14, '\\\\epsilon_l': 2, '\\\\epsilon_r': 1, '\\\\rho_2': 2, '\\\\max': 1, 'align': 1, '\\\\varphi_p': 1, '\\\\prod': 4, '\\\\dim': 3, '\\\\bigsqcup': 1, '\\\\omega_i': 2, '\\\\Ann_V': 1, '\\\\Ann_f': 1, '\\\\det': 1, '\\\\lambda_e': 5, '\\\\spann_': 2, '\\\\upsilon_': 1, '\\\\upsilon': 1, '\\\\not': 1, 'example': 2, 'thebibliography': 1, '\\\\bibitem': 22}\n"
     ]
    }
   ],
   "source": [
    "import pandas as pd\n",
    "\n",
    "#loop for each file here\n",
    "data = pd.read_csv(\"SampleCSV.csv\",usecols=['Command','Notes']) \n",
    "\n",
    "#find author&title\n",
    "author=[] \n",
    "title=''\n",
    "for i in range(0,len(data)):\n",
    "    if data['Command'][i] == '\\\\author':\n",
    "        author.append(data['Notes'][i])\n",
    "    if data['Command'][i] == '\\\\title':\n",
    "        title = data['Notes'][i]     \n",
    "\n",
    "#count commands\n",
    "counting={}\n",
    "List=data['Command']\n",
    "for i in List:\n",
    "    if i in counting:\n",
    "        counting[i] += 1\n",
    "    else:\n",
    "        counting[i] = 1\n",
    "\n",
    "#save to csv\n",
    "#我想了一个办法是 第一个file先正常存  1st row是author+title+各种command的名字,第二行是第一个file的计数\n",
    "#接下来的其他file 需要读取这个summary file, 然后看一下1st row，如果这个file有1th row没有的command, 就得加在1st row里，\n",
    "#并且把前面的sample这一项的计数设置成0\n",
    "#相对的，如果缺少1th row有的项目，就计数成0"
   ]
  },
  {
   "cell_type": "code",
   "execution_count": null,
   "metadata": {},
   "outputs": [],
   "source": []
  }
 ],
 "metadata": {
  "kernelspec": {
   "display_name": "Python 3",
   "language": "python",
   "name": "python3"
  },
  "language_info": {
   "codemirror_mode": {
    "name": "ipython",
    "version": 3
   },
   "file_extension": ".py",
   "mimetype": "text/x-python",
   "name": "python",
   "nbconvert_exporter": "python",
   "pygments_lexer": "ipython3",
   "version": "3.7.6"
  }
 },
 "nbformat": 4,
 "nbformat_minor": 4
}
