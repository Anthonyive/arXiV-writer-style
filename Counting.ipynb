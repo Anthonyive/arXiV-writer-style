{
 "cells": [
  {
   "cell_type": "code",
   "execution_count": 29,
   "metadata": {},
   "outputs": [],
   "source": [
    "import pandas as pd\n",
    "import csv\n",
    "\n",
    "sum_row_list=[['title','author','total_commands','num_package','num_newcommand','num_newtheorem','num_cite','num_ref','num_label','num_section']]\n",
    "\n",
    "##############starting loop through files\n",
    "data = pd.read_csv(\"sampleCSV.csv\",usecols=['Command','Notes']) \n",
    "\n",
    "#find author&title\n",
    "author='' \n",
    "title=''\n",
    "for i in range(0,len(data)):\n",
    "    #record author & title\n",
    "    if data['Command'][i] == '\\\\author':\n",
    "        author+=','\n",
    "        author+=data['Notes'][i]\n",
    "        \n",
    "    if data['Command'][i] == '\\\\title':\n",
    "        title = data['Notes'][i]\n",
    "        \n",
    "    #drop rows with empty Notes\n",
    "    if data['Notes'][i]=='N/A' or data['Notes'][i]=='':\n",
    "        data.drop(index=i,inplace=True,ignore_index=True)\n",
    "\n",
    "total_com=len(data)\n",
    "\n",
    "#count commands\n",
    "keys_list=['num_package','num_newcommand','num_newtheorem','num_cite','num_ref','num_label','num_section']\n",
    "counting={}\n",
    "for i in keys_list:\n",
    "    counting[i]=0\n",
    "\n",
    "data_List=data['Command']\n",
    "for i in data_List:\n",
    "        if i == '\\\\usepackage':\n",
    "            counting['num_package']+=1\n",
    "        if i == '\\\\newcommand':\n",
    "            counting['num_newcommand']+=1\n",
    "        if i == '\\\\newtheorem':\n",
    "            counting['num_newtheorem']+=1\n",
    "        if i == '\\\\cite':\n",
    "            counting['num_cite']+=1\n",
    "        if i =='\\\\ref':\n",
    "            counting['num_ref']+=1\n",
    "        if i =='\\\\label':\n",
    "            counting['num_label']+=1\n",
    "        if i =='\\\\section':\n",
    "            counting['num_section']+=1\n",
    "        \n",
    "sum_row_list.append([title,author,total_com,counting['num_package'],counting['num_newcommand'],counting['num_newtheorem'],counting['num_cite'],counting['num_ref'],counting['num_label'],counting['num_section']])\n",
    "\n",
    "################## end looping through files\n",
    "\n",
    "with open('summary.csv', 'w', newline='') as of:\n",
    "    writer = csv.writer(of)\n",
    "    writer.writerows(sum_row_list)"
   ]
  },
  {
   "cell_type": "code",
   "execution_count": null,
   "metadata": {},
   "outputs": [],
   "source": [
    "#loop through each file\n",
    "#eliminate the terms that just appear in few samples"
   ]
  }
 ],
 "metadata": {
  "kernelspec": {
   "display_name": "Python 3",
   "language": "python",
   "name": "python3"
  },
  "language_info": {
   "codemirror_mode": {
    "name": "ipython",
    "version": 3
   },
   "file_extension": ".py",
   "mimetype": "text/x-python",
   "name": "python",
   "nbconvert_exporter": "python",
   "pygments_lexer": "ipython3",
   "version": "3.7.6"
  }
 },
 "nbformat": 4,
 "nbformat_minor": 4
}
